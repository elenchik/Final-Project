{
 "cells": [
  {
   "cell_type": "code",
   "execution_count": null,
   "metadata": {},
   "outputs": [],
   "source": [
    "import pandas as pd\n",
    "import matplotlib.pyplot as plt\n",
    "import seaborn as sns\n",
    "\n",
    "df = pd.read_csv('user_data.csv')\n",
    "expenses_df = pd.json_normalize(df['expenses'].apply(eval)) \n",
    "df = pd.concat([df.drop(columns=['expenses']), expenses_df], axis=1)\n",
    "\n",
    "plt.figure(figsize=(8,5))\n",
    "top_ages = df.groupby('age')['income'].mean().sort_values(ascending=False).head(10)\n",
    "sns.barplot(x=top_ages.index, y=top_ages.values, palette='viridis')\n",
    "plt.title('Top 10 Ages with Highest Income')\n",
    "plt.ylabel('Average Income')\n",
    "plt.xlabel('Age')\n",
    "plt.savefig('../data/top_ages_income.png')\n",
    "plt.show()\n",
    "\n",
    "expense_cols = ['utilities', 'entertainment', 'school_fees', 'shopping', 'healthcare']\n",
    "gender_expense = df.groupby('gender')[expense_cols].mean().T\n",
    "gender_expense.plot(kind='barh', figsize=(8,6), colormap='coolwarm')\n",
    "plt.title('Average Spending by Gender')\n",
    "plt.xlabel('Amount Spent')\n",
    "plt.tight_layout()\n",
    "plt.savefig('../data/gender_expenses.png')\n",
    "plt.show()\n"
   ]
  }
 ],
 "metadata": {
  "language_info": {
   "name": "python"
  }
 },
 "nbformat": 4,
 "nbformat_minor": 2
}
